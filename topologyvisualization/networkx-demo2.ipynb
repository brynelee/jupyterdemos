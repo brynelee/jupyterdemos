{
 "cells": [
  {
   "cell_type": "markdown",
   "metadata": {},
   "source": [
    "## Networkx详细介绍\n",
    "\n",
    "(1) 导入扩展包创建无多重边有向图\n",
    "    import networkx as nx\n",
    "    DG = nx.DiGraph()\n",
    "图对象主要包括点和边，Networkx创建图包括四类：Graph无多重边无向图，DiGraph无多重边有向图，MultiGraph有多重边无向图，MultiDiGraph有多重边有向图。 \n",
    "\n",
    "(2) 增加点，采用序列增加五个点\n",
    "    DG.add_nodes_from(['A', 'B', 'C', 'D', 'E'])\n",
    "增加点可以通过G.add_node(1)、G.add_node(\"first_node\")函数增加一个点，也可以调用DG.add_nodes_from([1,2,3])、DG.add_nodes_from(D)函数批量增加多个点。删除点调用DG.remove_node(1)或DG.remove_nodes_from([1,2,3])实现。\n",
    "\n",
    "\n",
    "(3) 增加边，采用序列增加多条边\n",
    "    DG.add_edges_from([('A', 'B'), ('A', 'C'), ('A', 'D'), ('D','A')])\n",
    "增加一条边可以调用DG.add_edge(1,2)函数，表示在1和2之间增加一个点，从1指向2；也可以定义 e=(1,2) 边，在调用DG.add_edge(*e)函数实现，注意*用来获取元组(1,2)中的元素。增加多条表则使用DG.add_edges+from([(1,2), (2,3)])函数实现。\n",
    "同理，删除边采用remove_edge(1,2)函数或remove_edges_from(list)实现。\n",
    "\n",
    "\n",
    "(4) 访问点和边\n",
    "    DG.nodes()  #访问点，返回结果：['A', 'C', 'B', 'E', 'D']\n",
    "    DG.edges()  #访问边，返回结果：[('A', 'C'), ('A', 'B'), .... , ('D', 'A')]\n",
    "    DG.node['A']         #返回包含点和边的列表\n",
    "    DG.edge['A']['B']   #f返回包含两个key之间的边\n",
    "\n",
    "\n",
    "(5) 查看点和边的数量\n",
    "    DG.number_of_nodes()  #查看点的数量，返回结果：5\n",
    "    DG.number_of_edges()  #查看边的数量，返回结果：6\n",
    "    DG.neighbors('A')          #所有与A连通的点，返回结果：['C', 'B', 'D']\n",
    "    DG['A']  #所有与A相连边的信息，{'C': {}, 'B': {}, 'D': {}}，未设置属性\n",
    "\n",
    "\n",
    "(6) 设置属性\n",
    "可以给图、点、边赋予各种属性，其中权值属性最为常见，如权重、频率等。\n",
    "    DG.add_node('A', time='5s')\n",
    "    DG.add_nodes_from([1,2,3],time='5s')\n",
    "    DG.add_nodes_from([(1,{'time':'5s'}), (2,{'time':'4s'})])  #元组列表\n",
    "    DG.node['A']  #访问\n",
    "    DG.add_edges_from([(1,2),(3,4)], color='red')\n",
    "\n",
    "\n",
    "4.draw绘图\n",
    "绘制图只要调用draw(G)函数，比如：\n",
    "    nx.draw(DG,with_labels=True, node_size=900, node_color = colors)\n",
    "参数pos表示布局，包括spring_layout、random_layout、circular_layout、shell_layout四种类型，如pos=nx.random_layout(G)；参数node_color='b'设置节点颜色；edge_color='r'设置边颜色；with_labels显示节点；font_size设置大小；node_size=20设置节点大小。\n",
    "    circular_layout：节点在一个圆环上均匀分布 \n",
    "    random_layout：节点随机分布 \n",
    "    shell_layout：节点在同心圆上分布 \n",
    "    spring_layout： 用Fruchterman-Reingold算法排列节点\n",
    "\n",
    "————————————————\n",
    "\n",
    "原文链接：https://blog.csdn.net/Eastmount/article/details/78452581"
   ]
  },
  {
   "cell_type": "code",
   "execution_count": 4,
   "metadata": {},
   "outputs": [
    {
     "name": "stdout",
     "output_type": "stream",
     "text": [
      "['A', 'B', 'C', 'D', 'E']\n",
      "[('A', 'B'), ('A', 'C'), ('A', 'D'), ('D', 'A'), ('E', 'A'), ('E', 'D')]\n"
     ]
    },
    {
     "data": {
      "image/png": "[encoded data removed]",
      "text/plain": [
       "<Figure size 432x288 with 1 Axes>"
      ]
     },
     "metadata": {},
     "output_type": "display_data"
    }
   ],
   "source": [
    "# 简单示例\n",
    "\n",
    "# -*- coding: utf-8 -*-\n",
    "import networkx as nx\n",
    "import matplotlib.pyplot as plt\n",
    " \n",
    "#定义有向图\n",
    "DG = nx.DiGraph() \n",
    "#添加五个节点(列表)\n",
    "DG.add_nodes_from(['A', 'B', 'C', 'D', 'E'])\n",
    "print(DG.nodes())\n",
    "#添加边(列表)\n",
    "DG.add_edges_from([('A', 'B'), ('A', 'C'), ('A', 'D'), ('D','A'),('E','A'),('E','D')])\n",
    "print(DG.edges())\n",
    "#绘制图形 设置节点名显示\\节点大小\\节点颜色\n",
    "colors = ['red', 'green', 'blue', 'yellow','cyan']\n",
    "nx.draw(DG,with_labels=True, node_size=900, node_color = colors)\n",
    "plt.show()\n"
   ]
  },
  {
   "cell_type": "code",
   "execution_count": 8,
   "metadata": {},
   "outputs": [
    {
     "data": {
      "text/plain": [
       "{'A': Text(0.63598436, 0.9527833, 'A'),\n",
       " 'B': Text(0.4068265, 0.2383302, 'B'),\n",
       " 'C': Text(0.16819775, 0.9800446, 'C'),\n",
       " 'D': Text(0.068425715, 0.034820613, 'D'),\n",
       " 'E': Text(0.8135943, 0.03671505, 'E')}"
      ]
     },
     "execution_count": 8,
     "metadata": {},
     "output_type": "execute_result"
    },
    {
     "data": {
      "image/png": "[encoded data removed]",
      "text/plain": [
       "<Figure size 432x288 with 1 Axes>"
      ]
     },
     "metadata": {},
     "output_type": "display_data"
    }
   ],
   "source": [
    "pos=nx.random_layout(DG)\n",
    "nx.draw_networkx_nodes(DG, pos, alpha=0.2,node_size=1200,node_color=colors)\n",
    "nx.draw_networkx_edges(DG, pos, node_color='r', alpha=0.3)\n",
    "nx.draw_networkx_labels(DG, pos, font_family='sans-serif', alpha=0.5) "
   ]
  },
  {
   "cell_type": "code",
   "execution_count": 41,
   "metadata": {},
   "outputs": [
    {
     "name": "stdout",
     "output_type": "stream",
     "text": [
      "   序号  姓名 性别    学院  宿舍号\n",
      "0   0  立庆  男  经济学院  103\n",
      "1   1  张涛  男  经济学院  103\n",
      "2   2  陈舒  女  工商学院  102\n",
      "0     立庆\n",
      "1     张涛\n",
      "2     陈舒\n",
      "3     湘桥\n",
      "4     张凯\n",
      "5     陈杰\n",
      "6    王家红\n",
      "7     王丹\n",
      "Name: 姓名, dtype: object\n",
      "<class 'pandas.core.series.Series'>\n",
      "立庆\n",
      "[[0. 0. 0.]\n",
      " [0. 0. 0.]]\n",
      "8\n",
      "[[0. 2. 0. 1. 0. 1. 0. 1.]\n",
      " [2. 0. 0. 1. 0. 1. 0. 1.]\n",
      " [0. 0. 0. 0. 0. 0. 2. 0.]\n",
      " [1. 1. 0. 0. 1. 0. 0. 2.]\n",
      " [0. 0. 0. 1. 0. 1. 0. 1.]\n",
      " [1. 1. 0. 0. 1. 0. 0. 0.]\n",
      " [0. 0. 2. 0. 0. 0. 0. 0.]\n",
      " [1. 1. 0. 2. 1. 0. 0. 0.]]\n",
      "立庆 张涛 1.0\r\n",
      "\n",
      "<class 'tuple'>\n",
      "[('立庆', '张涛'), ('立庆', '陈杰'), ('张涛', '陈杰'), ('陈舒', '王家红'), ('湘桥', '张凯'), ('立庆', '张涛'), ('立庆', '陈杰'), ('张涛', '陈杰'), ('陈舒', '王家红'), ('湘桥', '张凯'), ('立庆', '张涛'), ('立庆', '陈杰'), ('张涛', '陈杰'), ('陈舒', '王家红'), ('湘桥', '张凯'), ('湘桥', '王丹'), ('张凯', '王丹'), ('立庆', '张涛'), ('立庆', '陈杰'), ('张涛', '陈杰'), ('陈舒', '王家红'), ('湘桥', '张凯'), ('湘桥', '王丹'), ('张凯', '王丹'), ('立庆', '张涛'), ('立庆', '湘桥'), ('立庆', '陈杰'), ('立庆', '王丹'), ('张涛', '湘桥'), ('张涛', '陈杰'), ('张涛', '王丹'), ('陈舒', '王家红'), ('湘桥', '张凯'), ('湘桥', '王丹'), ('张凯', '陈杰'), ('张凯', '王丹'), ('立庆', '张涛'), ('立庆', '湘桥'), ('立庆', '陈杰'), ('立庆', '王丹'), ('张涛', '湘桥'), ('张涛', '陈杰'), ('张涛', '王丹'), ('陈舒', '王家红'), ('湘桥', '张凯'), ('湘桥', '王丹'), ('张凯', '陈杰'), ('张凯', '王丹'), ('立庆', '张涛'), ('立庆', '湘桥'), ('立庆', '陈杰'), ('立庆', '王丹'), ('张涛', '湘桥'), ('张涛', '陈杰'), ('张涛', '王丹'), ('陈舒', '王家红'), ('湘桥', '张凯'), ('湘桥', '王丹'), ('张凯', '陈杰'), ('张凯', '王丹'), ('立庆', '张涛'), ('立庆', '湘桥'), ('立庆', '陈杰'), ('立庆', '王丹'), ('张涛', '湘桥'), ('张涛', '陈杰'), ('张涛', '王丹'), ('陈舒', '王家红'), ('湘桥', '张凯'), ('湘桥', '王丹'), ('张凯', '陈杰'), ('张凯', '王丹'), ('立庆', '张涛'), ('立庆', '湘桥'), ('立庆', '陈杰'), ('立庆', '王丹'), ('张涛', '湘桥'), ('张涛', '陈杰'), ('张涛', '王丹'), ('陈舒', '王家红'), ('湘桥', '张凯'), ('湘桥', '王丹'), ('张凯', '陈杰'), ('张凯', '王丹'), ('立庆', '张涛'), ('立庆', '湘桥'), ('立庆', '陈杰'), ('立庆', '王丹'), ('张涛', '湘桥'), ('张涛', '陈杰'), ('张涛', '王丹'), ('陈舒', '王家红'), ('湘桥', '张凯'), ('湘桥', '王丹'), ('张凯', '陈杰'), ('张凯', '王丹'), ('立庆', '张涛'), ('立庆', '湘桥'), ('立庆', '陈杰'), ('立庆', '王丹'), ('张涛', '湘桥'), ('张涛', '陈杰'), ('张涛', '王丹'), ('陈舒', '王家红'), ('湘桥', '张凯'), ('湘桥', '王丹'), ('张凯', '陈杰'), ('张凯', '王丹')]\n"
     ]
    },
    {
     "data": {
      "image/png": "[encoded data removed]",
      "text/plain": [
       "<Figure size 432x288 with 1 Axes>"
      ]
     },
     "metadata": {},
     "output_type": "display_data"
    }
   ],
   "source": [
    "import pandas as pd\n",
    "import numpy as np\n",
    "import codecs\n",
    "import networkx as nx\n",
    "import matplotlib.pyplot as plt\n",
    "\n",
    "data = pd.read_csv(\"peopledata1.csv\",encoding =\"utf-8\") #中文乱码\n",
    "print(data[:3])\n",
    "print(data[u'姓名']) #获取某一列数据\n",
    "print(type(data[u'姓名']))\n",
    "name = []\n",
    "for n in data[u'姓名']:\n",
    "    name.append(n)\n",
    "print(name[0])\n",
    "\n",
    " \n",
    "\"\"\" 第二步:计算共现矩阵 定义函数实现 \"\"\"\n",
    "a = np.zeros([2,3])\n",
    "print(a)\n",
    "print(len(name))\n",
    "word_vector = np.zeros([len(name),len(name)]) #共现矩阵\n",
    "# print(word_vector)\n",
    "\n",
    "\n",
    "#1.计算学院共现矩阵\n",
    "i = 0\n",
    "while i<len(name):  #len(name)\n",
    "    academy1 = data[u'学院'][i]\n",
    "    j = i + 1\n",
    "    while j<len(name):\n",
    "        academy2 = data[u'学院'][j]\n",
    "        if academy1==academy2: #学院相同\n",
    "            word_vector[i][j] += 1\n",
    "            word_vector[j][i] += 1\n",
    "        j = j + 1   \n",
    "    i = i + 1\n",
    "# print(word_vector)\n",
    "\n",
    "\n",
    "np_data = np.array(word_vector)  #矩阵写入文件\n",
    "pd_data = pd.DataFrame(np_data)\n",
    "pd_data.to_csv('result.csv')\n",
    "\n",
    "\n",
    "#4.计算宿舍号共现矩阵\n",
    "\n",
    "i = 0\n",
    "while i<len(name):  #len(name)\n",
    "    academy1 = data[u'宿舍号'][i]\n",
    "    j = i + 1\n",
    "    while j<len(name):\n",
    "        academy2 = data[u'宿舍号'][j]\n",
    "        if academy1==academy2: #相同\n",
    "            word_vector[i][j] += 1\n",
    "            word_vector[j][i] += 1\n",
    "        j = j + 1   \n",
    "    i = i + 1\n",
    "print(word_vector)\n",
    "\n",
    " \n",
    " \n",
    "\"\"\" 第三步:共现矩阵计算(学生1 学生2 共现词频)文件 \"\"\"\n",
    "words = codecs.open(\"word_node.txt\", \"a+\", \"utf-8\")\n",
    "i = 0\n",
    "while i<len(name):  #len(name)\n",
    "    student1 = name[i]\n",
    "    j = i + 1\n",
    "    while j<len(name):\n",
    "        student2 = name[j]\n",
    "        #判断学生是否共现 共现词频不为0则加入\n",
    "        if word_vector[i][j]>0:\n",
    "            words.write(student1 + \" \" + student2 + \" \" \n",
    "                + str(word_vector[i][j]) + \"\\r\\n\")\n",
    "        j = j + 1\n",
    "    i = i + 1\n",
    "words.close()\n",
    " \n",
    " \n",
    "\"\"\" 第四步:图形生成 \"\"\"\n",
    "a = []\n",
    "f = codecs.open('word_node.txt','r','utf-8')\n",
    "line = f.readline()\n",
    "print(line)\n",
    "i = 0\n",
    "A = []\n",
    "B = []\n",
    "while line!=\"\":\n",
    "    a.append(line.split())   #保存文件是以空格分离的\n",
    "    # print(a[i][0],a[i][1])\n",
    "    A.append(a[i][0])\n",
    "    B.append(a[i][1])\n",
    "    i = i + 1\n",
    "    line = f.readline()\n",
    "elem_dic = tuple(zip(A,B)) \n",
    "print(type(elem_dic))\n",
    "print(list(elem_dic))\n",
    "f.close()\n",
    " \n",
    "import matplotlib\n",
    "matplotlib.rcParams['font.sans-serif'] = ['SimHei']   \n",
    "matplotlib.rcParams['font.family']='sans-serif'\n",
    " \n",
    "colors = [\"red\",\"green\",\"blue\",\"yellow\",\"cyan\",\"orange\",\"purple\",\"gray\"]\n",
    "G = nx.Graph()\n",
    "G.add_edges_from(list(elem_dic))\n",
    "#nx.draw(G,with_labels=True,pos=nx.random_layout(G),font_size=12,node_size=2000,node_color=colors) #alpha=0.3\n",
    "#pos=nx.spring_layout(G,iterations=50)\n",
    "pos=nx.random_layout(G)\n",
    "nx.draw_networkx_nodes(G, pos, alpha=0.2,node_size=1200,node_color=colors)\n",
    "nx.draw_networkx_edges(G, pos, node_color='r', alpha=0.3) #style='dashed'\n",
    "nx.draw_networkx_labels(G, pos, font_family='sans-serif', alpha=0.5) #font_size=5\n",
    "plt.show()\n",
    "\n",
    "\n"
   ]
  }
 ],
 "metadata": {
  "kernelspec": {
   "display_name": "Python 3",
   "language": "python",
   "name": "python3"
  },
  "language_info": {
   "codemirror_mode": {
    "name": "ipython",
    "version": 3
   },
   "file_extension": ".py",
   "mimetype": "text/x-python",
   "name": "python",
   "nbconvert_exporter": "python",
   "pygments_lexer": "ipython3",
   "version": "3.7.4"
  }
 },
 "nbformat": 4,
 "nbformat_minor": 2
}
